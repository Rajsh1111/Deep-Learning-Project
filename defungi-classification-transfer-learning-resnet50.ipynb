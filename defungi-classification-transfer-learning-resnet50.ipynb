{
 "cells": [
  {
   "cell_type": "markdown",
   "id": "63847786",
   "metadata": {
    "papermill": {
     "duration": 0.013292,
     "end_time": "2023-05-15T06:29:16.432426",
     "exception": false,
     "start_time": "2023-05-15T06:29:16.419134",
     "status": "completed"
    },
    "tags": []
   },
   "source": [
    "## Dataset Explanation\n",
    "\n",
    "The classes included in the dataset are superficial fungi compatible with dermatophytes and moulds.\n",
    "\n",
    "**Class&emsp;&emsp;&emsp;&emsp;Fungi Type**  \n",
    "Hypha 1&emsp;  **->**  &emsp;Tortuous septate hyaline hyphae<br>\n",
    "Hypha 2&emsp;  **->**  &emsp;Beaded arthroconidial septate hyaline hyphae<br>\n",
    "Hypha 3&emsp;  **->**  &emsp;Groups or mosaics of arthroconidia<br>\n",
    "Hypha 5&emsp;  **->**  &emsp;Septate hyaline hyphae with chlamydioconidia<br>\n",
    "Hypha 6&emsp;  **->**  &emsp;Broad brown hyphae\n"
   ]
  },
  {
   "cell_type": "markdown",
   "id": "7ec37ee0",
   "metadata": {
    "papermill": {
     "duration": 0.007351,
     "end_time": "2023-05-15T06:29:16.447879",
     "exception": false,
     "start_time": "2023-05-15T06:29:16.440528",
     "status": "completed"
    },
    "tags": []
   },
   "source": [
    "## 1. Installing Split-Folder For Dataset Splitting"
   ]
  },
  {
   "cell_type": "code",
   "execution_count": 1,
   "id": "015df874",
   "metadata": {
    "execution": {
     "iopub.execute_input": "2023-05-15T06:29:16.463844Z",
     "iopub.status.busy": "2023-05-15T06:29:16.463383Z",
     "iopub.status.idle": "2023-05-15T06:29:29.223474Z",
     "shell.execute_reply": "2023-05-15T06:29:29.222326Z"
    },
    "papermill": {
     "duration": 12.772005,
     "end_time": "2023-05-15T06:29:29.226110",
     "exception": false,
     "start_time": "2023-05-15T06:29:16.454105",
     "status": "completed"
    },
    "tags": []
   },
   "outputs": [
    {
     "name": "stdout",
     "output_type": "stream",
     "text": [
      "Collecting split-folders\r\n",
      "  Downloading split_folders-0.5.1-py3-none-any.whl (8.4 kB)\r\n",
      "Installing collected packages: split-folders\r\n",
      "Successfully installed split-folders-0.5.1\r\n"
     ]
    }
   ],
   "source": [
    "!pip install --root-user-action=ignore split-folders"
   ]
  },
  {
   "cell_type": "markdown",
   "id": "02941608",
   "metadata": {
    "papermill": {
     "duration": 0.005219,
     "end_time": "2023-05-15T06:29:29.237245",
     "exception": false,
     "start_time": "2023-05-15T06:29:29.232026",
     "status": "completed"
    },
    "tags": []
   },
   "source": [
    "## 2. Importing Modules"
   ]
  },
  {
   "cell_type": "code",
   "execution_count": 2,
   "id": "5a151861",
   "metadata": {
    "execution": {
     "iopub.execute_input": "2023-05-15T06:29:29.249332Z",
     "iopub.status.busy": "2023-05-15T06:29:29.249020Z",
     "iopub.status.idle": "2023-05-15T06:29:29.253865Z",
     "shell.execute_reply": "2023-05-15T06:29:29.252927Z"
    },
    "papermill": {
     "duration": 0.013341,
     "end_time": "2023-05-15T06:29:29.255824",
     "exception": false,
     "start_time": "2023-05-15T06:29:29.242483",
     "status": "completed"
    },
    "tags": []
   },
   "outputs": [],
   "source": [
    "import warnings\n",
    "warnings.filterwarnings(\"ignore\")"
   ]
  },
  {
   "cell_type": "code",
   "execution_count": 3,
   "id": "b4946bfd",
   "metadata": {
    "execution": {
     "iopub.execute_input": "2023-05-15T06:29:29.268240Z",
     "iopub.status.busy": "2023-05-15T06:29:29.267334Z",
     "iopub.status.idle": "2023-05-15T06:29:37.322144Z",
     "shell.execute_reply": "2023-05-15T06:29:37.321136Z"
    },
    "papermill": {
     "duration": 8.063531,
     "end_time": "2023-05-15T06:29:37.324699",
     "exception": false,
     "start_time": "2023-05-15T06:29:29.261168",
     "status": "completed"
    },
    "tags": []
   },
   "outputs": [],
   "source": [
    "import pandas as pd\n",
    "import os\n",
    "import tensorflow as tf\n",
    "import numpy as np\n",
    "from tensorflow.keras.applications.resnet50 import ResNet50, preprocess_input\n",
    "from tensorflow.keras.models import Model\n",
    "from keras.preprocessing.image import ImageDataGenerator\n",
    "from tensorflow.keras.layers import GlobalAveragePooling2D\n",
    "import matplotlib.pyplot as plt\n",
    "import splitfolders"
   ]
  },
  {
   "cell_type": "markdown",
   "id": "ee740d30",
   "metadata": {
    "papermill": {
     "duration": 0.005348,
     "end_time": "2023-05-15T06:29:37.336003",
     "exception": false,
     "start_time": "2023-05-15T06:29:37.330655",
     "status": "completed"
    },
    "tags": []
   },
   "source": [
    "## 3. Splitting Dataset Into Train And Validation Set"
   ]
  },
  {
   "cell_type": "code",
   "execution_count": 4,
   "id": "7afe0a11",
   "metadata": {
    "execution": {
     "iopub.execute_input": "2023-05-15T06:29:37.350520Z",
     "iopub.status.busy": "2023-05-15T06:29:37.348690Z",
     "iopub.status.idle": "2023-05-15T06:30:38.549300Z",
     "shell.execute_reply": "2023-05-15T06:30:38.547818Z"
    },
    "papermill": {
     "duration": 61.210038,
     "end_time": "2023-05-15T06:30:38.551756",
     "exception": false,
     "start_time": "2023-05-15T06:29:37.341718",
     "status": "completed"
    },
    "scrolled": true,
    "tags": []
   },
   "outputs": [
    {
     "name": "stderr",
     "output_type": "stream",
     "text": [
      "Copying files: 9114 files [01:01, 148.97 files/s]\n"
     ]
    }
   ],
   "source": [
    "input_folder = \"/kaggle/input/lemm-pre-processed\"\n",
    "output = \"/kaggle/working/\"\n",
    "\n",
    "splitfolders.ratio(input_folder, output=output, seed=42, ratio=(0.80, 0.20))"
   ]
  },
  {
   "cell_type": "markdown",
   "id": "6733fb13",
   "metadata": {
    "papermill": {
     "duration": 0.039015,
     "end_time": "2023-05-15T06:30:38.631212",
     "exception": false,
     "start_time": "2023-05-15T06:30:38.592197",
     "status": "completed"
    },
    "tags": []
   },
   "source": [
    "## 4. Displaying No. Of Classes In the Dataset"
   ]
  },
  {
   "cell_type": "code",
   "execution_count": 5,
   "id": "35eca4ed",
   "metadata": {
    "execution": {
     "iopub.execute_input": "2023-05-15T06:30:38.713746Z",
     "iopub.status.busy": "2023-05-15T06:30:38.712769Z",
     "iopub.status.idle": "2023-05-15T06:30:43.059019Z",
     "shell.execute_reply": "2023-05-15T06:30:43.058131Z"
    },
    "papermill": {
     "duration": 4.38995,
     "end_time": "2023-05-15T06:30:43.061095",
     "exception": false,
     "start_time": "2023-05-15T06:30:38.671145",
     "status": "completed"
    },
    "tags": []
   },
   "outputs": [
    {
     "name": "stdout",
     "output_type": "stream",
     "text": [
      "Found 7290 files belonging to 5 classes.\n"
     ]
    },
    {
     "data": {
      "text/plain": [
       "['H1', 'H2', 'H3', 'H5', 'H6']"
      ]
     },
     "execution_count": 5,
     "metadata": {},
     "output_type": "execute_result"
    }
   ],
   "source": [
    "dataset= tf.keras.preprocessing.image_dataset_from_directory('/kaggle/working/train')\n",
    "class_names = dataset.class_names\n",
    "class_names"
   ]
  },
  {
   "cell_type": "markdown",
   "id": "a610c57b",
   "metadata": {
    "papermill": {
     "duration": 0.038734,
     "end_time": "2023-05-15T06:30:43.140073",
     "exception": false,
     "start_time": "2023-05-15T06:30:43.101339",
     "status": "completed"
    },
    "tags": []
   },
   "source": [
    "## 4. Data Augmentation & Importing Train And Validation Data"
   ]
  },
  {
   "cell_type": "code",
   "execution_count": 6,
   "id": "dfc9f4a4",
   "metadata": {
    "execution": {
     "iopub.execute_input": "2023-05-15T06:30:43.220493Z",
     "iopub.status.busy": "2023-05-15T06:30:43.219636Z",
     "iopub.status.idle": "2023-05-15T06:30:43.471171Z",
     "shell.execute_reply": "2023-05-15T06:30:43.470289Z"
    },
    "papermill": {
     "duration": 0.293847,
     "end_time": "2023-05-15T06:30:43.473313",
     "exception": false,
     "start_time": "2023-05-15T06:30:43.179466",
     "status": "completed"
    },
    "tags": []
   },
   "outputs": [
    {
     "name": "stdout",
     "output_type": "stream",
     "text": [
      "Found 7290 images belonging to 5 classes.\n",
      "Found 1824 images belonging to 5 classes.\n"
     ]
    }
   ],
   "source": [
    "image_size = 256\n",
    "\n",
    "data_generator_with_aug = ImageDataGenerator(preprocessing_function=preprocess_input,\n",
    "                                   horizontal_flip=True,\n",
    "                                   vertical_flip=True)\n",
    "\n",
    "data_generator_no_aug = ImageDataGenerator(preprocessing_function=preprocess_input)\n",
    "\n",
    "train_generator = data_generator_with_aug.flow_from_directory(\n",
    "        '/kaggle/working/train',\n",
    "        target_size=(image_size, image_size),\n",
    "        batch_size=32,\n",
    "        class_mode='categorical',\n",
    "        shuffle=True)\n",
    "\n",
    "validation_generator = data_generator_no_aug.flow_from_directory(\n",
    "        '/kaggle/working/val',\n",
    "        target_size=(image_size, image_size),\n",
    "        batch_size=32,\n",
    "        class_mode='categorical',\n",
    "        shuffle=True)"
   ]
  },
  {
   "cell_type": "markdown",
   "id": "7de93740",
   "metadata": {
    "papermill": {
     "duration": 0.04058,
     "end_time": "2023-05-15T06:30:43.553813",
     "exception": false,
     "start_time": "2023-05-15T06:30:43.513233",
     "status": "completed"
    },
    "tags": []
   },
   "source": [
    "## 5. Using Resnet50 As Base Model & Building the Model "
   ]
  },
  {
   "cell_type": "code",
   "execution_count": 7,
   "id": "e14cb0f5",
   "metadata": {
    "execution": {
     "iopub.execute_input": "2023-05-15T06:30:43.634901Z",
     "iopub.status.busy": "2023-05-15T06:30:43.634586Z",
     "iopub.status.idle": "2023-05-15T06:30:46.362242Z",
     "shell.execute_reply": "2023-05-15T06:30:46.361269Z"
    },
    "papermill": {
     "duration": 2.771491,
     "end_time": "2023-05-15T06:30:46.365084",
     "exception": false,
     "start_time": "2023-05-15T06:30:43.593593",
     "status": "completed"
    },
    "scrolled": true,
    "tags": []
   },
   "outputs": [
    {
     "name": "stdout",
     "output_type": "stream",
     "text": [
      "Downloading data from https://storage.googleapis.com/tensorflow/keras-applications/resnet/resnet50_weights_tf_dim_ordering_tf_kernels_notop.h5\n",
      "94765736/94765736 [==============================] - 1s 0us/step\n"
     ]
    }
   ],
   "source": [
    "resnet_model = ResNet50(include_top=False,weights=\"imagenet\")\n",
    "x = resnet_model.output\n",
    "x = GlobalAveragePooling2D()(x)\n",
    "x = tf.keras.layers.Flatten()(x)\n",
    "x = tf.keras.layers.Dense(1024,activation='relu')(x)\n",
    "x = tf.keras.layers.Dropout(0.6)(x)\n",
    "x = tf.keras.layers.Dense(512,activation='relu')(x)\n",
    "x = tf.keras.layers.Dropout(0.5)(x)\n",
    "res = tf.keras.layers.Dense(5, activation=\"softmax\")(x)\n",
    "\n",
    "model = Model(inputs=resnet_model.input, outputs=res)\n",
    "\n",
    "# Freezing the pre-trained layers so that we do not have to update weights ourselves\n",
    "for layer in resnet_model.layers:\n",
    "    layer.trainable = False\n",
    "\n",
    "model.compile(\n",
    "    optimizer=tf.keras.optimizers.Adam(learning_rate=0.001),\n",
    "    loss='categorical_crossentropy',\n",
    "    metrics=['accuracy'])"
   ]
  },
  {
   "cell_type": "markdown",
   "id": "a5bb22e3",
   "metadata": {
    "papermill": {
     "duration": 0.040589,
     "end_time": "2023-05-15T06:30:46.447866",
     "exception": false,
     "start_time": "2023-05-15T06:30:46.407277",
     "status": "completed"
    },
    "tags": []
   },
   "source": [
    "## 6. Training the Model"
   ]
  },
  {
   "cell_type": "code",
   "execution_count": 8,
   "id": "f9bc1850",
   "metadata": {
    "execution": {
     "iopub.execute_input": "2023-05-15T06:30:46.530570Z",
     "iopub.status.busy": "2023-05-15T06:30:46.530240Z",
     "iopub.status.idle": "2023-05-15T06:51:32.976788Z",
     "shell.execute_reply": "2023-05-15T06:51:32.976009Z"
    },
    "papermill": {
     "duration": 1246.845514,
     "end_time": "2023-05-15T06:51:33.334004",
     "exception": false,
     "start_time": "2023-05-15T06:30:46.488490",
     "status": "completed"
    },
    "scrolled": true,
    "tags": []
   },
   "outputs": [
    {
     "name": "stdout",
     "output_type": "stream",
     "text": [
      "Epoch 1/30\n",
      "228/228 [==============================] - 52s 170ms/step - loss: 0.9921 - accuracy: 0.6225 - val_loss: 0.7289 - val_accuracy: 0.7007\n",
      "Epoch 2/30\n",
      "228/228 [==============================] - 37s 163ms/step - loss: 0.7368 - accuracy: 0.7044 - val_loss: 0.6496 - val_accuracy: 0.7495\n",
      "Epoch 3/30\n",
      "228/228 [==============================] - 38s 166ms/step - loss: 0.6827 - accuracy: 0.7277 - val_loss: 0.6074 - val_accuracy: 0.7560\n",
      "Epoch 4/30\n",
      "228/228 [==============================] - 38s 168ms/step - loss: 0.6463 - accuracy: 0.7420 - val_loss: 0.5926 - val_accuracy: 0.7615\n",
      "Epoch 5/30\n",
      "228/228 [==============================] - 38s 168ms/step - loss: 0.6096 - accuracy: 0.7531 - val_loss: 0.5732 - val_accuracy: 0.7681\n",
      "Epoch 6/30\n",
      "228/228 [==============================] - 39s 169ms/step - loss: 0.5985 - accuracy: 0.7636 - val_loss: 0.5572 - val_accuracy: 0.7736\n",
      "Epoch 7/30\n",
      "228/228 [==============================] - 39s 171ms/step - loss: 0.5841 - accuracy: 0.7628 - val_loss: 0.5475 - val_accuracy: 0.7818\n",
      "Epoch 8/30\n",
      "228/228 [==============================] - 42s 185ms/step - loss: 0.5587 - accuracy: 0.7778 - val_loss: 0.5368 - val_accuracy: 0.7906\n",
      "Epoch 9/30\n",
      "228/228 [==============================] - 39s 168ms/step - loss: 0.5532 - accuracy: 0.7797 - val_loss: 0.5461 - val_accuracy: 0.7867\n",
      "Epoch 10/30\n",
      "228/228 [==============================] - 39s 173ms/step - loss: 0.5334 - accuracy: 0.7838 - val_loss: 0.5311 - val_accuracy: 0.7900\n",
      "Epoch 11/30\n",
      "228/228 [==============================] - 40s 176ms/step - loss: 0.5279 - accuracy: 0.7901 - val_loss: 0.5176 - val_accuracy: 0.7966\n",
      "Epoch 12/30\n",
      "228/228 [==============================] - 40s 175ms/step - loss: 0.5109 - accuracy: 0.7938 - val_loss: 0.5089 - val_accuracy: 0.8065\n",
      "Epoch 13/30\n",
      "228/228 [==============================] - 40s 177ms/step - loss: 0.5114 - accuracy: 0.7973 - val_loss: 0.5292 - val_accuracy: 0.7900\n",
      "Epoch 14/30\n",
      "228/228 [==============================] - 40s 175ms/step - loss: 0.4905 - accuracy: 0.7993 - val_loss: 0.5015 - val_accuracy: 0.7999\n",
      "Epoch 15/30\n",
      "228/228 [==============================] - 40s 174ms/step - loss: 0.4980 - accuracy: 0.8075 - val_loss: 0.5133 - val_accuracy: 0.7851\n",
      "Epoch 16/30\n",
      "228/228 [==============================] - 40s 174ms/step - loss: 0.4958 - accuracy: 0.8036 - val_loss: 0.4819 - val_accuracy: 0.8037\n",
      "Epoch 17/30\n",
      "228/228 [==============================] - 40s 173ms/step - loss: 0.4722 - accuracy: 0.8110 - val_loss: 0.4969 - val_accuracy: 0.8010\n",
      "Epoch 18/30\n",
      "228/228 [==============================] - 40s 174ms/step - loss: 0.4665 - accuracy: 0.8188 - val_loss: 0.4771 - val_accuracy: 0.8125\n",
      "Epoch 19/30\n",
      "228/228 [==============================] - 41s 178ms/step - loss: 0.4630 - accuracy: 0.8166 - val_loss: 0.4720 - val_accuracy: 0.8120\n",
      "Epoch 20/30\n",
      "228/228 [==============================] - 40s 176ms/step - loss: 0.4556 - accuracy: 0.8200 - val_loss: 0.4747 - val_accuracy: 0.8169\n",
      "Epoch 21/30\n",
      "228/228 [==============================] - 40s 176ms/step - loss: 0.4562 - accuracy: 0.8215 - val_loss: 0.4684 - val_accuracy: 0.8147\n",
      "Epoch 22/30\n",
      "228/228 [==============================] - 41s 177ms/step - loss: 0.4436 - accuracy: 0.8202 - val_loss: 0.4527 - val_accuracy: 0.8300\n",
      "Epoch 23/30\n",
      "228/228 [==============================] - 40s 176ms/step - loss: 0.4415 - accuracy: 0.8292 - val_loss: 0.4692 - val_accuracy: 0.8092\n",
      "Epoch 24/30\n",
      "228/228 [==============================] - 40s 175ms/step - loss: 0.4316 - accuracy: 0.8299 - val_loss: 0.4486 - val_accuracy: 0.8213\n",
      "Epoch 25/30\n",
      "228/228 [==============================] - 40s 174ms/step - loss: 0.4215 - accuracy: 0.8313 - val_loss: 0.4494 - val_accuracy: 0.8136\n",
      "Epoch 26/30\n",
      "228/228 [==============================] - 40s 173ms/step - loss: 0.4330 - accuracy: 0.8314 - val_loss: 0.4397 - val_accuracy: 0.8300\n",
      "Epoch 27/30\n",
      "228/228 [==============================] - 41s 178ms/step - loss: 0.4167 - accuracy: 0.8342 - val_loss: 0.4426 - val_accuracy: 0.8284\n",
      "Epoch 28/30\n",
      "228/228 [==============================] - 40s 176ms/step - loss: 0.4225 - accuracy: 0.8313 - val_loss: 0.4354 - val_accuracy: 0.8262\n",
      "Epoch 29/30\n",
      "228/228 [==============================] - 40s 176ms/step - loss: 0.4176 - accuracy: 0.8364 - val_loss: 0.4341 - val_accuracy: 0.8235\n",
      "Epoch 30/30\n",
      "228/228 [==============================] - 40s 177ms/step - loss: 0.4004 - accuracy: 0.8453 - val_loss: 0.4233 - val_accuracy: 0.8372\n",
      "Model: \"model\"\n",
      "__________________________________________________________________________________________________\n",
      " Layer (type)                   Output Shape         Param #     Connected to                     \n",
      "==================================================================================================\n",
      " input_1 (InputLayer)           [(None, None, None,  0           []                               \n",
      "                                 3)]                                                              \n",
      "                                                                                                  \n",
      " conv1_pad (ZeroPadding2D)      (None, None, None,   0           ['input_1[0][0]']                \n",
      "                                3)                                                                \n",
      "                                                                                                  \n",
      " conv1_conv (Conv2D)            (None, None, None,   9472        ['conv1_pad[0][0]']              \n",
      "                                64)                                                               \n",
      "                                                                                                  \n",
      " conv1_bn (BatchNormalization)  (None, None, None,   256         ['conv1_conv[0][0]']             \n",
      "                                64)                                                               \n",
      "                                                                                                  \n",
      " conv1_relu (Activation)        (None, None, None,   0           ['conv1_bn[0][0]']               \n",
      "                                64)                                                               \n",
      "                                                                                                  \n",
      " pool1_pad (ZeroPadding2D)      (None, None, None,   0           ['conv1_relu[0][0]']             \n",
      "                                64)                                                               \n",
      "                                                                                                  \n",
      " pool1_pool (MaxPooling2D)      (None, None, None,   0           ['pool1_pad[0][0]']              \n",
      "                                64)                                                               \n",
      "                                                                                                  \n",
      " conv2_block1_1_conv (Conv2D)   (None, None, None,   4160        ['pool1_pool[0][0]']             \n",
      "                                64)                                                               \n",
      "                                                                                                  \n",
      " conv2_block1_1_bn (BatchNormal  (None, None, None,   256        ['conv2_block1_1_conv[0][0]']    \n",
      " ization)                       64)                                                               \n",
      "                                                                                                  \n",
      " conv2_block1_1_relu (Activatio  (None, None, None,   0          ['conv2_block1_1_bn[0][0]']      \n",
      " n)                             64)                                                               \n",
      "                                                                                                  \n",
      " conv2_block1_2_conv (Conv2D)   (None, None, None,   36928       ['conv2_block1_1_relu[0][0]']    \n",
      "                                64)                                                               \n",
      "                                                                                                  \n",
      " conv2_block1_2_bn (BatchNormal  (None, None, None,   256        ['conv2_block1_2_conv[0][0]']    \n",
      " ization)                       64)                                                               \n",
      "                                                                                                  \n",
      " conv2_block1_2_relu (Activatio  (None, None, None,   0          ['conv2_block1_2_bn[0][0]']      \n",
      " n)                             64)                                                               \n",
      "                                                                                                  \n",
      " conv2_block1_0_conv (Conv2D)   (None, None, None,   16640       ['pool1_pool[0][0]']             \n",
      "                                256)                                                              \n",
      "                                                                                                  \n",
      " conv2_block1_3_conv (Conv2D)   (None, None, None,   16640       ['conv2_block1_2_relu[0][0]']    \n",
      "                                256)                                                              \n",
      "                                                                                                  \n",
      " conv2_block1_0_bn (BatchNormal  (None, None, None,   1024       ['conv2_block1_0_conv[0][0]']    \n",
      " ization)                       256)                                                              \n",
      "                                                                                                  \n",
      " conv2_block1_3_bn (BatchNormal  (None, None, None,   1024       ['conv2_block1_3_conv[0][0]']    \n",
      " ization)                       256)                                                              \n",
      "                                                                                                  \n",
      " conv2_block1_add (Add)         (None, None, None,   0           ['conv2_block1_0_bn[0][0]',      \n",
      "                                256)                              'conv2_block1_3_bn[0][0]']      \n",
      "                                                                                                  \n",
      " conv2_block1_out (Activation)  (None, None, None,   0           ['conv2_block1_add[0][0]']       \n",
      "                                256)                                                              \n",
      "                                                                                                  \n",
      " conv2_block2_1_conv (Conv2D)   (None, None, None,   16448       ['conv2_block1_out[0][0]']       \n",
      "                                64)                                                               \n",
      "                                                                                                  \n",
      " conv2_block2_1_bn (BatchNormal  (None, None, None,   256        ['conv2_block2_1_conv[0][0]']    \n",
      " ization)                       64)                                                               \n",
      "                                                                                                  \n",
      " conv2_block2_1_relu (Activatio  (None, None, None,   0          ['conv2_block2_1_bn[0][0]']      \n",
      " n)                             64)                                                               \n",
      "                                                                                                  \n",
      " conv2_block2_2_conv (Conv2D)   (None, None, None,   36928       ['conv2_block2_1_relu[0][0]']    \n",
      "                                64)                                                               \n",
      "                                                                                                  \n",
      " conv2_block2_2_bn (BatchNormal  (None, None, None,   256        ['conv2_block2_2_conv[0][0]']    \n",
      " ization)                       64)                                                               \n",
      "                                                                                                  \n",
      " conv2_block2_2_relu (Activatio  (None, None, None,   0          ['conv2_block2_2_bn[0][0]']      \n",
      " n)                             64)                                                               \n",
      "                                                                                                  \n",
      " conv2_block2_3_conv (Conv2D)   (None, None, None,   16640       ['conv2_block2_2_relu[0][0]']    \n",
      "                                256)                                                              \n",
      "                                                                                                  \n",
      " conv2_block2_3_bn (BatchNormal  (None, None, None,   1024       ['conv2_block2_3_conv[0][0]']    \n",
      " ization)                       256)                                                              \n",
      "                                                                                                  \n",
      " conv2_block2_add (Add)         (None, None, None,   0           ['conv2_block1_out[0][0]',       \n",
      "                                256)                              'conv2_block2_3_bn[0][0]']      \n",
      "                                                                                                  \n",
      " conv2_block2_out (Activation)  (None, None, None,   0           ['conv2_block2_add[0][0]']       \n",
      "                                256)                                                              \n",
      "                                                                                                  \n",
      " conv2_block3_1_conv (Conv2D)   (None, None, None,   16448       ['conv2_block2_out[0][0]']       \n",
      "                                64)                                                               \n",
      "                                                                                                  \n",
      " conv2_block3_1_bn (BatchNormal  (None, None, None,   256        ['conv2_block3_1_conv[0][0]']    \n",
      " ization)                       64)                                                               \n",
      "                                                                                                  \n",
      " conv2_block3_1_relu (Activatio  (None, None, None,   0          ['conv2_block3_1_bn[0][0]']      \n",
      " n)                             64)                                                               \n",
      "                                                                                                  \n",
      " conv2_block3_2_conv (Conv2D)   (None, None, None,   36928       ['conv2_block3_1_relu[0][0]']    \n",
      "                                64)                                                               \n",
      "                                                                                                  \n",
      " conv2_block3_2_bn (BatchNormal  (None, None, None,   256        ['conv2_block3_2_conv[0][0]']    \n",
      " ization)                       64)                                                               \n",
      "                                                                                                  \n",
      " conv2_block3_2_relu (Activatio  (None, None, None,   0          ['conv2_block3_2_bn[0][0]']      \n",
      " n)                             64)                                                               \n",
      "                                                                                                  \n",
      " conv2_block3_3_conv (Conv2D)   (None, None, None,   16640       ['conv2_block3_2_relu[0][0]']    \n",
      "                                256)                                                              \n",
      "                                                                                                  \n",
      " conv2_block3_3_bn (BatchNormal  (None, None, None,   1024       ['conv2_block3_3_conv[0][0]']    \n",
      " ization)                       256)                                                              \n",
      "                                                                                                  \n",
      " conv2_block3_add (Add)         (None, None, None,   0           ['conv2_block2_out[0][0]',       \n",
      "                                256)                              'conv2_block3_3_bn[0][0]']      \n",
      "                                                                                                  \n",
      " conv2_block3_out (Activation)  (None, None, None,   0           ['conv2_block3_add[0][0]']       \n",
      "                                256)                                                              \n",
      "                                                                                                  \n",
      " conv3_block1_1_conv (Conv2D)   (None, None, None,   32896       ['conv2_block3_out[0][0]']       \n",
      "                                128)                                                              \n",
      "                                                                                                  \n",
      " conv3_block1_1_bn (BatchNormal  (None, None, None,   512        ['conv3_block1_1_conv[0][0]']    \n",
      " ization)                       128)                                                              \n",
      "                                                                                                  \n",
      " conv3_block1_1_relu (Activatio  (None, None, None,   0          ['conv3_block1_1_bn[0][0]']      \n",
      " n)                             128)                                                              \n",
      "                                                                                                  \n",
      " conv3_block1_2_conv (Conv2D)   (None, None, None,   147584      ['conv3_block1_1_relu[0][0]']    \n",
      "                                128)                                                              \n",
      "                                                                                                  \n",
      " conv3_block1_2_bn (BatchNormal  (None, None, None,   512        ['conv3_block1_2_conv[0][0]']    \n",
      " ization)                       128)                                                              \n",
      "                                                                                                  \n",
      " conv3_block1_2_relu (Activatio  (None, None, None,   0          ['conv3_block1_2_bn[0][0]']      \n",
      " n)                             128)                                                              \n",
      "                                                                                                  \n",
      " conv3_block1_0_conv (Conv2D)   (None, None, None,   131584      ['conv2_block3_out[0][0]']       \n",
      "                                512)                                                              \n",
      "                                                                                                  \n",
      " conv3_block1_3_conv (Conv2D)   (None, None, None,   66048       ['conv3_block1_2_relu[0][0]']    \n",
      "                                512)                                                              \n",
      "                                                                                                  \n",
      " conv3_block1_0_bn (BatchNormal  (None, None, None,   2048       ['conv3_block1_0_conv[0][0]']    \n",
      " ization)                       512)                                                              \n",
      "                                                                                                  \n",
      " conv3_block1_3_bn (BatchNormal  (None, None, None,   2048       ['conv3_block1_3_conv[0][0]']    \n",
      " ization)                       512)                                                              \n",
      "                                                                                                  \n",
      " conv3_block1_add (Add)         (None, None, None,   0           ['conv3_block1_0_bn[0][0]',      \n",
      "                                512)                              'conv3_block1_3_bn[0][0]']      \n",
      "                                                                                                  \n",
      " conv3_block1_out (Activation)  (None, None, None,   0           ['conv3_block1_add[0][0]']       \n",
      "                                512)                                                              \n",
      "                                                                                                  \n",
      " conv3_block2_1_conv (Conv2D)   (None, None, None,   65664       ['conv3_block1_out[0][0]']       \n",
      "                                128)                                                              \n",
      "                                                                                                  \n",
      " conv3_block2_1_bn (BatchNormal  (None, None, None,   512        ['conv3_block2_1_conv[0][0]']    \n",
      " ization)                       128)                                                              \n",
      "                                                                                                  \n",
      " conv3_block2_1_relu (Activatio  (None, None, None,   0          ['conv3_block2_1_bn[0][0]']      \n",
      " n)                             128)                                                              \n",
      "                                                                                                  \n",
      " conv3_block2_2_conv (Conv2D)   (None, None, None,   147584      ['conv3_block2_1_relu[0][0]']    \n",
      "                                128)                                                              \n",
      "                                                                                                  \n",
      " conv3_block2_2_bn (BatchNormal  (None, None, None,   512        ['conv3_block2_2_conv[0][0]']    \n",
      " ization)                       128)                                                              \n",
      "                                                                                                  \n",
      " conv3_block2_2_relu (Activatio  (None, None, None,   0          ['conv3_block2_2_bn[0][0]']      \n",
      " n)                             128)                                                              \n",
      "                                                                                                  \n",
      " conv3_block2_3_conv (Conv2D)   (None, None, None,   66048       ['conv3_block2_2_relu[0][0]']    \n",
      "                                512)                                                              \n",
      "                                                                                                  \n",
      " conv3_block2_3_bn (BatchNormal  (None, None, None,   2048       ['conv3_block2_3_conv[0][0]']    \n",
      " ization)                       512)                                                              \n",
      "                                                                                                  \n",
      " conv3_block2_add (Add)         (None, None, None,   0           ['conv3_block1_out[0][0]',       \n",
      "                                512)                              'conv3_block2_3_bn[0][0]']      \n",
      "                                                                                                  \n",
      " conv3_block2_out (Activation)  (None, None, None,   0           ['conv3_block2_add[0][0]']       \n",
      "                                512)                                                              \n",
      "                                                                                                  \n",
      " conv3_block3_1_conv (Conv2D)   (None, None, None,   65664       ['conv3_block2_out[0][0]']       \n",
      "                                128)                                                              \n",
      "                                                                                                  \n",
      " conv3_block3_1_bn (BatchNormal  (None, None, None,   512        ['conv3_block3_1_conv[0][0]']    \n",
      " ization)                       128)                                                              \n",
      "                                                                                                  \n",
      " conv3_block3_1_relu (Activatio  (None, None, None,   0          ['conv3_block3_1_bn[0][0]']      \n",
      " n)                             128)                                                              \n",
      "                                                                                                  \n",
      " conv3_block3_2_conv (Conv2D)   (None, None, None,   147584      ['conv3_block3_1_relu[0][0]']    \n",
      "                                128)                                                              \n",
      "                                                                                                  \n",
      " conv3_block3_2_bn (BatchNormal  (None, None, None,   512        ['conv3_block3_2_conv[0][0]']    \n",
      " ization)                       128)                                                              \n",
      "                                                                                                  \n",
      " conv3_block3_2_relu (Activatio  (None, None, None,   0          ['conv3_block3_2_bn[0][0]']      \n",
      " n)                             128)                                                              \n",
      "                                                                                                  \n",
      " conv3_block3_3_conv (Conv2D)   (None, None, None,   66048       ['conv3_block3_2_relu[0][0]']    \n",
      "                                512)                                                              \n",
      "                                                                                                  \n",
      " conv3_block3_3_bn (BatchNormal  (None, None, None,   2048       ['conv3_block3_3_conv[0][0]']    \n",
      " ization)                       512)                                                              \n",
      "                                                                                                  \n",
      " conv3_block3_add (Add)         (None, None, None,   0           ['conv3_block2_out[0][0]',       \n",
      "                                512)                              'conv3_block3_3_bn[0][0]']      \n",
      "                                                                                                  \n",
      " conv3_block3_out (Activation)  (None, None, None,   0           ['conv3_block3_add[0][0]']       \n",
      "                                512)                                                              \n",
      "                                                                                                  \n",
      " conv3_block4_1_conv (Conv2D)   (None, None, None,   65664       ['conv3_block3_out[0][0]']       \n",
      "                                128)                                                              \n",
      "                                                                                                  \n",
      " conv3_block4_1_bn (BatchNormal  (None, None, None,   512        ['conv3_block4_1_conv[0][0]']    \n",
      " ization)                       128)                                                              \n",
      "                                                                                                  \n",
      " conv3_block4_1_relu (Activatio  (None, None, None,   0          ['conv3_block4_1_bn[0][0]']      \n",
      " n)                             128)                                                              \n",
      "                                                                                                  \n",
      " conv3_block4_2_conv (Conv2D)   (None, None, None,   147584      ['conv3_block4_1_relu[0][0]']    \n",
      "                                128)                                                              \n",
      "                                                                                                  \n",
      " conv3_block4_2_bn (BatchNormal  (None, None, None,   512        ['conv3_block4_2_conv[0][0]']    \n",
      " ization)                       128)                                                              \n",
      "                                                                                                  \n",
      " conv3_block4_2_relu (Activatio  (None, None, None,   0          ['conv3_block4_2_bn[0][0]']      \n",
      " n)                             128)                                                              \n",
      "                                                                                                  \n",
      " conv3_block4_3_conv (Conv2D)   (None, None, None,   66048       ['conv3_block4_2_relu[0][0]']    \n",
      "                                512)                                                              \n",
      "                                                                                                  \n",
      " conv3_block4_3_bn (BatchNormal  (None, None, None,   2048       ['conv3_block4_3_conv[0][0]']    \n",
      " ization)                       512)                                                              \n",
      "                                                                                                  \n",
      " conv3_block4_add (Add)         (None, None, None,   0           ['conv3_block3_out[0][0]',       \n",
      "                                512)                              'conv3_block4_3_bn[0][0]']      \n",
      "                                                                                                  \n",
      " conv3_block4_out (Activation)  (None, None, None,   0           ['conv3_block4_add[0][0]']       \n",
      "                                512)                                                              \n",
      "                                                                                                  \n",
      " conv4_block1_1_conv (Conv2D)   (None, None, None,   131328      ['conv3_block4_out[0][0]']       \n",
      "                                256)                                                              \n",
      "                                                                                                  \n",
      " conv4_block1_1_bn (BatchNormal  (None, None, None,   1024       ['conv4_block1_1_conv[0][0]']    \n",
      " ization)                       256)                                                              \n",
      "                                                                                                  \n",
      " conv4_block1_1_relu (Activatio  (None, None, None,   0          ['conv4_block1_1_bn[0][0]']      \n",
      " n)                             256)                                                              \n",
      "                                                                                                  \n",
      " conv4_block1_2_conv (Conv2D)   (None, None, None,   590080      ['conv4_block1_1_relu[0][0]']    \n",
      "                                256)                                                              \n",
      "                                                                                                  \n",
      " conv4_block1_2_bn (BatchNormal  (None, None, None,   1024       ['conv4_block1_2_conv[0][0]']    \n",
      " ization)                       256)                                                              \n",
      "                                                                                                  \n",
      " conv4_block1_2_relu (Activatio  (None, None, None,   0          ['conv4_block1_2_bn[0][0]']      \n",
      " n)                             256)                                                              \n",
      "                                                                                                  \n",
      " conv4_block1_0_conv (Conv2D)   (None, None, None,   525312      ['conv3_block4_out[0][0]']       \n",
      "                                1024)                                                             \n",
      "                                                                                                  \n",
      " conv4_block1_3_conv (Conv2D)   (None, None, None,   263168      ['conv4_block1_2_relu[0][0]']    \n",
      "                                1024)                                                             \n",
      "                                                                                                  \n",
      " conv4_block1_0_bn (BatchNormal  (None, None, None,   4096       ['conv4_block1_0_conv[0][0]']    \n",
      " ization)                       1024)                                                             \n",
      "                                                                                                  \n",
      " conv4_block1_3_bn (BatchNormal  (None, None, None,   4096       ['conv4_block1_3_conv[0][0]']    \n",
      " ization)                       1024)                                                             \n",
      "                                                                                                  \n",
      " conv4_block1_add (Add)         (None, None, None,   0           ['conv4_block1_0_bn[0][0]',      \n",
      "                                1024)                             'conv4_block1_3_bn[0][0]']      \n",
      "                                                                                                  \n",
      " conv4_block1_out (Activation)  (None, None, None,   0           ['conv4_block1_add[0][0]']       \n",
      "                                1024)                                                             \n",
      "                                                                                                  \n",
      " conv4_block2_1_conv (Conv2D)   (None, None, None,   262400      ['conv4_block1_out[0][0]']       \n",
      "                                256)                                                              \n",
      "                                                                                                  \n",
      " conv4_block2_1_bn (BatchNormal  (None, None, None,   1024       ['conv4_block2_1_conv[0][0]']    \n",
      " ization)                       256)                                                              \n",
      "                                                                                                  \n",
      " conv4_block2_1_relu (Activatio  (None, None, None,   0          ['conv4_block2_1_bn[0][0]']      \n",
      " n)                             256)                                                              \n",
      "                                                                                                  \n",
      " conv4_block2_2_conv (Conv2D)   (None, None, None,   590080      ['conv4_block2_1_relu[0][0]']    \n",
      "                                256)                                                              \n",
      "                                                                                                  \n",
      " conv4_block2_2_bn (BatchNormal  (None, None, None,   1024       ['conv4_block2_2_conv[0][0]']    \n",
      " ization)                       256)                                                              \n",
      "                                                                                                  \n",
      " conv4_block2_2_relu (Activatio  (None, None, None,   0          ['conv4_block2_2_bn[0][0]']      \n",
      " n)                             256)                                                              \n",
      "                                                                                                  \n",
      " conv4_block2_3_conv (Conv2D)   (None, None, None,   263168      ['conv4_block2_2_relu[0][0]']    \n",
      "                                1024)                                                             \n",
      "                                                                                                  \n",
      " conv4_block2_3_bn (BatchNormal  (None, None, None,   4096       ['conv4_block2_3_conv[0][0]']    \n",
      " ization)                       1024)                                                             \n",
      "                                                                                                  \n",
      " conv4_block2_add (Add)         (None, None, None,   0           ['conv4_block1_out[0][0]',       \n",
      "                                1024)                             'conv4_block2_3_bn[0][0]']      \n",
      "                                                                                                  \n",
      " conv4_block2_out (Activation)  (None, None, None,   0           ['conv4_block2_add[0][0]']       \n",
      "                                1024)                                                             \n",
      "                                                                                                  \n",
      " conv4_block3_1_conv (Conv2D)   (None, None, None,   262400      ['conv4_block2_out[0][0]']       \n",
      "                                256)                                                              \n",
      "                                                                                                  \n",
      " conv4_block3_1_bn (BatchNormal  (None, None, None,   1024       ['conv4_block3_1_conv[0][0]']    \n",
      " ization)                       256)                                                              \n",
      "                                                                                                  \n",
      " conv4_block3_1_relu (Activatio  (None, None, None,   0          ['conv4_block3_1_bn[0][0]']      \n",
      " n)                             256)                                                              \n",
      "                                                                                                  \n",
      " conv4_block3_2_conv (Conv2D)   (None, None, None,   590080      ['conv4_block3_1_relu[0][0]']    \n",
      "                                256)                                                              \n",
      "                                                                                                  \n",
      " conv4_block3_2_bn (BatchNormal  (None, None, None,   1024       ['conv4_block3_2_conv[0][0]']    \n",
      " ization)                       256)                                                              \n",
      "                                                                                                  \n",
      " conv4_block3_2_relu (Activatio  (None, None, None,   0          ['conv4_block3_2_bn[0][0]']      \n",
      " n)                             256)                                                              \n",
      "                                                                                                  \n",
      " conv4_block3_3_conv (Conv2D)   (None, None, None,   263168      ['conv4_block3_2_relu[0][0]']    \n",
      "                                1024)                                                             \n",
      "                                                                                                  \n",
      " conv4_block3_3_bn (BatchNormal  (None, None, None,   4096       ['conv4_block3_3_conv[0][0]']    \n",
      " ization)                       1024)                                                             \n",
      "                                                                                                  \n",
      " conv4_block3_add (Add)         (None, None, None,   0           ['conv4_block2_out[0][0]',       \n",
      "                                1024)                             'conv4_block3_3_bn[0][0]']      \n",
      "                                                                                                  \n",
      " conv4_block3_out (Activation)  (None, None, None,   0           ['conv4_block3_add[0][0]']       \n",
      "                                1024)                                                             \n",
      "                                                                                                  \n",
      " conv4_block4_1_conv (Conv2D)   (None, None, None,   262400      ['conv4_block3_out[0][0]']       \n",
      "                                256)                                                              \n",
      "                                                                                                  \n",
      " conv4_block4_1_bn (BatchNormal  (None, None, None,   1024       ['conv4_block4_1_conv[0][0]']    \n",
      " ization)                       256)                                                              \n",
      "                                                                                                  \n",
      " conv4_block4_1_relu (Activatio  (None, None, None,   0          ['conv4_block4_1_bn[0][0]']      \n",
      " n)                             256)                                                              \n",
      "                                                                                                  \n",
      " conv4_block4_2_conv (Conv2D)   (None, None, None,   590080      ['conv4_block4_1_relu[0][0]']    \n",
      "                                256)                                                              \n",
      "                                                                                                  \n",
      " conv4_block4_2_bn (BatchNormal  (None, None, None,   1024       ['conv4_block4_2_conv[0][0]']    \n",
      " ization)                       256)                                                              \n",
      "                                                                                                  \n",
      " conv4_block4_2_relu (Activatio  (None, None, None,   0          ['conv4_block4_2_bn[0][0]']      \n",
      " n)                             256)                                                              \n",
      "                                                                                                  \n",
      " conv4_block4_3_conv (Conv2D)   (None, None, None,   263168      ['conv4_block4_2_relu[0][0]']    \n",
      "                                1024)                                                             \n",
      "                                                                                                  \n",
      " conv4_block4_3_bn (BatchNormal  (None, None, None,   4096       ['conv4_block4_3_conv[0][0]']    \n",
      " ization)                       1024)                                                             \n",
      "                                                                                                  \n",
      " conv4_block4_add (Add)         (None, None, None,   0           ['conv4_block3_out[0][0]',       \n",
      "                                1024)                             'conv4_block4_3_bn[0][0]']      \n",
      "                                                                                                  \n",
      " conv4_block4_out (Activation)  (None, None, None,   0           ['conv4_block4_add[0][0]']       \n",
      "                                1024)                                                             \n",
      "                                                                                                  \n",
      " conv4_block5_1_conv (Conv2D)   (None, None, None,   262400      ['conv4_block4_out[0][0]']       \n",
      "                                256)                                                              \n",
      "                                                                                                  \n",
      " conv4_block5_1_bn (BatchNormal  (None, None, None,   1024       ['conv4_block5_1_conv[0][0]']    \n",
      " ization)                       256)                                                              \n",
      "                                                                                                  \n",
      " conv4_block5_1_relu (Activatio  (None, None, None,   0          ['conv4_block5_1_bn[0][0]']      \n",
      " n)                             256)                                                              \n",
      "                                                                                                  \n",
      " conv4_block5_2_conv (Conv2D)   (None, None, None,   590080      ['conv4_block5_1_relu[0][0]']    \n",
      "                                256)                                                              \n",
      "                                                                                                  \n",
      " conv4_block5_2_bn (BatchNormal  (None, None, None,   1024       ['conv4_block5_2_conv[0][0]']    \n",
      " ization)                       256)                                                              \n",
      "                                                                                                  \n",
      " conv4_block5_2_relu (Activatio  (None, None, None,   0          ['conv4_block5_2_bn[0][0]']      \n",
      " n)                             256)                                                              \n",
      "                                                                                                  \n",
      " conv4_block5_3_conv (Conv2D)   (None, None, None,   263168      ['conv4_block5_2_relu[0][0]']    \n",
      "                                1024)                                                             \n",
      "                                                                                                  \n",
      " conv4_block5_3_bn (BatchNormal  (None, None, None,   4096       ['conv4_block5_3_conv[0][0]']    \n",
      " ization)                       1024)                                                             \n",
      "                                                                                                  \n",
      " conv4_block5_add (Add)         (None, None, None,   0           ['conv4_block4_out[0][0]',       \n",
      "                                1024)                             'conv4_block5_3_bn[0][0]']      \n",
      "                                                                                                  \n",
      " conv4_block5_out (Activation)  (None, None, None,   0           ['conv4_block5_add[0][0]']       \n",
      "                                1024)                                                             \n",
      "                                                                                                  \n",
      " conv4_block6_1_conv (Conv2D)   (None, None, None,   262400      ['conv4_block5_out[0][0]']       \n",
      "                                256)                                                              \n",
      "                                                                                                  \n",
      " conv4_block6_1_bn (BatchNormal  (None, None, None,   1024       ['conv4_block6_1_conv[0][0]']    \n",
      " ization)                       256)                                                              \n",
      "                                                                                                  \n",
      " conv4_block6_1_relu (Activatio  (None, None, None,   0          ['conv4_block6_1_bn[0][0]']      \n",
      " n)                             256)                                                              \n",
      "                                                                                                  \n",
      " conv4_block6_2_conv (Conv2D)   (None, None, None,   590080      ['conv4_block6_1_relu[0][0]']    \n",
      "                                256)                                                              \n",
      "                                                                                                  \n",
      " conv4_block6_2_bn (BatchNormal  (None, None, None,   1024       ['conv4_block6_2_conv[0][0]']    \n",
      " ization)                       256)                                                              \n",
      "                                                                                                  \n",
      " conv4_block6_2_relu (Activatio  (None, None, None,   0          ['conv4_block6_2_bn[0][0]']      \n",
      " n)                             256)                                                              \n",
      "                                                                                                  \n",
      " conv4_block6_3_conv (Conv2D)   (None, None, None,   263168      ['conv4_block6_2_relu[0][0]']    \n",
      "                                1024)                                                             \n",
      "                                                                                                  \n",
      " conv4_block6_3_bn (BatchNormal  (None, None, None,   4096       ['conv4_block6_3_conv[0][0]']    \n",
      " ization)                       1024)                                                             \n",
      "                                                                                                  \n",
      " conv4_block6_add (Add)         (None, None, None,   0           ['conv4_block5_out[0][0]',       \n",
      "                                1024)                             'conv4_block6_3_bn[0][0]']      \n",
      "                                                                                                  \n",
      " conv4_block6_out (Activation)  (None, None, None,   0           ['conv4_block6_add[0][0]']       \n",
      "                                1024)                                                             \n",
      "                                                                                                  \n",
      " conv5_block1_1_conv (Conv2D)   (None, None, None,   524800      ['conv4_block6_out[0][0]']       \n",
      "                                512)                                                              \n",
      "                                                                                                  \n",
      " conv5_block1_1_bn (BatchNormal  (None, None, None,   2048       ['conv5_block1_1_conv[0][0]']    \n",
      " ization)                       512)                                                              \n",
      "                                                                                                  \n",
      " conv5_block1_1_relu (Activatio  (None, None, None,   0          ['conv5_block1_1_bn[0][0]']      \n",
      " n)                             512)                                                              \n",
      "                                                                                                  \n",
      " conv5_block1_2_conv (Conv2D)   (None, None, None,   2359808     ['conv5_block1_1_relu[0][0]']    \n",
      "                                512)                                                              \n",
      "                                                                                                  \n",
      " conv5_block1_2_bn (BatchNormal  (None, None, None,   2048       ['conv5_block1_2_conv[0][0]']    \n",
      " ization)                       512)                                                              \n",
      "                                                                                                  \n",
      " conv5_block1_2_relu (Activatio  (None, None, None,   0          ['conv5_block1_2_bn[0][0]']      \n",
      " n)                             512)                                                              \n",
      "                                                                                                  \n",
      " conv5_block1_0_conv (Conv2D)   (None, None, None,   2099200     ['conv4_block6_out[0][0]']       \n",
      "                                2048)                                                             \n",
      "                                                                                                  \n",
      " conv5_block1_3_conv (Conv2D)   (None, None, None,   1050624     ['conv5_block1_2_relu[0][0]']    \n",
      "                                2048)                                                             \n",
      "                                                                                                  \n",
      " conv5_block1_0_bn (BatchNormal  (None, None, None,   8192       ['conv5_block1_0_conv[0][0]']    \n",
      " ization)                       2048)                                                             \n",
      "                                                                                                  \n",
      " conv5_block1_3_bn (BatchNormal  (None, None, None,   8192       ['conv5_block1_3_conv[0][0]']    \n",
      " ization)                       2048)                                                             \n",
      "                                                                                                  \n",
      " conv5_block1_add (Add)         (None, None, None,   0           ['conv5_block1_0_bn[0][0]',      \n",
      "                                2048)                             'conv5_block1_3_bn[0][0]']      \n",
      "                                                                                                  \n",
      " conv5_block1_out (Activation)  (None, None, None,   0           ['conv5_block1_add[0][0]']       \n",
      "                                2048)                                                             \n",
      "                                                                                                  \n",
      " conv5_block2_1_conv (Conv2D)   (None, None, None,   1049088     ['conv5_block1_out[0][0]']       \n",
      "                                512)                                                              \n",
      "                                                                                                  \n",
      " conv5_block2_1_bn (BatchNormal  (None, None, None,   2048       ['conv5_block2_1_conv[0][0]']    \n",
      " ization)                       512)                                                              \n",
      "                                                                                                  \n",
      " conv5_block2_1_relu (Activatio  (None, None, None,   0          ['conv5_block2_1_bn[0][0]']      \n",
      " n)                             512)                                                              \n",
      "                                                                                                  \n",
      " conv5_block2_2_conv (Conv2D)   (None, None, None,   2359808     ['conv5_block2_1_relu[0][0]']    \n",
      "                                512)                                                              \n",
      "                                                                                                  \n",
      " conv5_block2_2_bn (BatchNormal  (None, None, None,   2048       ['conv5_block2_2_conv[0][0]']    \n",
      " ization)                       512)                                                              \n",
      "                                                                                                  \n",
      " conv5_block2_2_relu (Activatio  (None, None, None,   0          ['conv5_block2_2_bn[0][0]']      \n",
      " n)                             512)                                                              \n",
      "                                                                                                  \n",
      " conv5_block2_3_conv (Conv2D)   (None, None, None,   1050624     ['conv5_block2_2_relu[0][0]']    \n",
      "                                2048)                                                             \n",
      "                                                                                                  \n",
      " conv5_block2_3_bn (BatchNormal  (None, None, None,   8192       ['conv5_block2_3_conv[0][0]']    \n",
      " ization)                       2048)                                                             \n",
      "                                                                                                  \n",
      " conv5_block2_add (Add)         (None, None, None,   0           ['conv5_block1_out[0][0]',       \n",
      "                                2048)                             'conv5_block2_3_bn[0][0]']      \n",
      "                                                                                                  \n",
      " conv5_block2_out (Activation)  (None, None, None,   0           ['conv5_block2_add[0][0]']       \n",
      "                                2048)                                                             \n",
      "                                                                                                  \n",
      " conv5_block3_1_conv (Conv2D)   (None, None, None,   1049088     ['conv5_block2_out[0][0]']       \n",
      "                                512)                                                              \n",
      "                                                                                                  \n",
      " conv5_block3_1_bn (BatchNormal  (None, None, None,   2048       ['conv5_block3_1_conv[0][0]']    \n",
      " ization)                       512)                                                              \n",
      "                                                                                                  \n",
      " conv5_block3_1_relu (Activatio  (None, None, None,   0          ['conv5_block3_1_bn[0][0]']      \n",
      " n)                             512)                                                              \n",
      "                                                                                                  \n",
      " conv5_block3_2_conv (Conv2D)   (None, None, None,   2359808     ['conv5_block3_1_relu[0][0]']    \n",
      "                                512)                                                              \n",
      "                                                                                                  \n",
      " conv5_block3_2_bn (BatchNormal  (None, None, None,   2048       ['conv5_block3_2_conv[0][0]']    \n",
      " ization)                       512)                                                              \n",
      "                                                                                                  \n",
      " conv5_block3_2_relu (Activatio  (None, None, None,   0          ['conv5_block3_2_bn[0][0]']      \n",
      " n)                             512)                                                              \n",
      "                                                                                                  \n",
      " conv5_block3_3_conv (Conv2D)   (None, None, None,   1050624     ['conv5_block3_2_relu[0][0]']    \n",
      "                                2048)                                                             \n",
      "                                                                                                  \n",
      " conv5_block3_3_bn (BatchNormal  (None, None, None,   8192       ['conv5_block3_3_conv[0][0]']    \n",
      " ization)                       2048)                                                             \n",
      "                                                                                                  \n",
      " conv5_block3_add (Add)         (None, None, None,   0           ['conv5_block2_out[0][0]',       \n",
      "                                2048)                             'conv5_block3_3_bn[0][0]']      \n",
      "                                                                                                  \n",
      " conv5_block3_out (Activation)  (None, None, None,   0           ['conv5_block3_add[0][0]']       \n",
      "                                2048)                                                             \n",
      "                                                                                                  \n",
      " global_average_pooling2d (Glob  (None, 2048)        0           ['conv5_block3_out[0][0]']       \n",
      " alAveragePooling2D)                                                                              \n",
      "                                                                                                  \n",
      " flatten (Flatten)              (None, 2048)         0           ['global_average_pooling2d[0][0]'\n",
      "                                                                 ]                                \n",
      "                                                                                                  \n",
      " dense (Dense)                  (None, 1024)         2098176     ['flatten[0][0]']                \n",
      "                                                                                                  \n",
      " dropout (Dropout)              (None, 1024)         0           ['dense[0][0]']                  \n",
      "                                                                                                  \n",
      " dense_1 (Dense)                (None, 512)          524800      ['dropout[0][0]']                \n",
      "                                                                                                  \n",
      " dropout_1 (Dropout)            (None, 512)          0           ['dense_1[0][0]']                \n",
      "                                                                                                  \n",
      " dense_2 (Dense)                (None, 5)            2565        ['dropout_1[0][0]']              \n",
      "                                                                                                  \n",
      "==================================================================================================\n",
      "Total params: 26,213,253\n",
      "Trainable params: 2,625,541\n",
      "Non-trainable params: 23,587,712\n",
      "__________________________________________________________________________________________________\n"
     ]
    }
   ],
   "source": [
    "hist = model.fit(\n",
    "    train_generator,\n",
    "    validation_data=validation_generator,\n",
    "    epochs=30,\n",
    "    verbose=1\n",
    ").history\n",
    "\n",
    "model.summary()"
   ]
  },
  {
   "cell_type": "markdown",
   "id": "fac47fdf",
   "metadata": {
    "papermill": {
     "duration": 0.607028,
     "end_time": "2023-05-15T06:51:34.613423",
     "exception": false,
     "start_time": "2023-05-15T06:51:34.006395",
     "status": "completed"
    },
    "tags": []
   },
   "source": [
    "## 7. Evaluating the Model Loss and Model Accuracy"
   ]
  },
  {
   "cell_type": "code",
   "execution_count": 9,
   "id": "4d1b5f25",
   "metadata": {
    "execution": {
     "iopub.execute_input": "2023-05-15T06:51:35.969904Z",
     "iopub.status.busy": "2023-05-15T06:51:35.969539Z",
     "iopub.status.idle": "2023-05-15T06:51:36.448211Z",
     "shell.execute_reply": "2023-05-15T06:51:36.447115Z"
    },
    "papermill": {
     "duration": 1.143902,
     "end_time": "2023-05-15T06:51:36.450916",
     "exception": false,
     "start_time": "2023-05-15T06:51:35.307014",
     "status": "completed"
    },
    "tags": []
   },
   "outputs": [
    {
     "data": {
      "image/png": "[encoded data removed]",
      "text/plain": [
       "<Figure size 1000x800 with 2 Axes>"
      ]
     },
     "metadata": {},
     "output_type": "display_data"
    }
   ],
   "source": [
    "acc= hist['accuracy']\n",
    "val_acc= hist['val_accuracy']\n",
    "\n",
    "loss= hist['loss']\n",
    "val_loss= hist['val_loss']\n",
    "\n",
    "plt.figure(figsize=(10, 8))\n",
    "plt.subplot(1, 2, 1)\n",
    "plt.plot(range(30), acc, label='Training Accuracy')\n",
    "plt.plot(range(30), val_acc, label='Validation Accuracy')\n",
    "plt.legend(loc='lower right')\n",
    "plt.title('Training and Validation Accuracy')\n",
    "\n",
    "plt.subplot(1, 2, 2)\n",
    "plt.plot(range(30), loss, label='Training Loss')\n",
    "plt.plot(range(30), val_loss, label='Validation Loss')\n",
    "plt.legend(loc='upper right')\n",
    "plt.title('Training and Validation Loss')\n",
    "plt.show()"
   ]
  },
  {
   "cell_type": "markdown",
   "id": "466ba3a2",
   "metadata": {
    "papermill": {
     "duration": 0.60543,
     "end_time": "2023-05-15T06:51:37.688610",
     "exception": false,
     "start_time": "2023-05-15T06:51:37.083180",
     "status": "completed"
    },
    "tags": []
   },
   "source": [
    "## 8. Saving the Model"
   ]
  },
  {
   "cell_type": "code",
   "execution_count": 10,
   "id": "60e80efe",
   "metadata": {
    "execution": {
     "iopub.execute_input": "2023-05-15T06:51:38.964478Z",
     "iopub.status.busy": "2023-05-15T06:51:38.964112Z",
     "iopub.status.idle": "2023-05-15T06:51:39.503795Z",
     "shell.execute_reply": "2023-05-15T06:51:39.502839Z"
    },
    "papermill": {
     "duration": 1.200369,
     "end_time": "2023-05-15T06:51:39.506136",
     "exception": false,
     "start_time": "2023-05-15T06:51:38.305767",
     "status": "completed"
    },
    "tags": []
   },
   "outputs": [],
   "source": [
    "model.save('defungi.h5')"
   ]
  },
  {
   "cell_type": "markdown",
   "id": "3db5eade",
   "metadata": {
    "papermill": {
     "duration": 0.600349,
     "end_time": "2023-05-15T06:51:40.705806",
     "exception": false,
     "start_time": "2023-05-15T06:51:40.105457",
     "status": "completed"
    },
    "tags": []
   },
   "source": [
    "### So, We have come to an end, Follow and Upvote If you like\n",
    "### Thank You and Happy Kaggling !"
   ]
  }
 ],
 "metadata": {
  "kernelspec": {
   "display_name": "Python 3",
   "language": "python",
   "name": "python3"
  },
  "language_info": {
   "codemirror_mode": {
    "name": "ipython",
    "version": 3
   },
   "file_extension": ".py",
   "mimetype": "text/x-python",
   "name": "python",
   "nbconvert_exporter": "python",
   "pygments_lexer": "ipython3",
   "version": "3.8.8"
  },
  "papermill": {
   "default_parameters": {},
   "duration": 1359.911145,
   "end_time": "2023-05-15T06:51:44.912451",
   "environment_variables": {},
   "exception": null,
   "input_path": "__notebook__.ipynb",
   "output_path": "__notebook__.ipynb",
   "parameters": {},
   "start_time": "2023-05-15T06:29:05.001306",
   "version": "2.4.0"
  }
 },
 "nbformat": 4,
 "nbformat_minor": 5
}
